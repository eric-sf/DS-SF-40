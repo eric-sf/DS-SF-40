{
 "cells": [
  {
   "cell_type": "markdown",
   "metadata": {
    "button": false,
    "new_sheet": false,
    "run_control": {
     "read_only": false
    }
   },
   "source": [
    "# The Machine Learning Group Challenge!"
   ]
  },
  {
   "cell_type": "markdown",
   "metadata": {
    "button": false,
    "new_sheet": false,
    "run_control": {
     "read_only": false
    }
   },
   "source": [
    "##  Today's Mission\n",
    "- Your objective is to devise the best possible model to predict successful/default loans using a preprocessed version of the Lending Club loan dataset.\n",
    "\n",
    "- Class into divided into 2 groups. Groups were decided by an extremely high tech clustering algorithm.\n",
    "\n",
    "        Team Seaborn: Shobha, Darren, Cedric\n",
    "        Team Pandas: Ana, Corey, Shivendra, Eric\n",
    "        \n",
    "\n",
    "- The training data is 13689 loans labeled either as 1 (successful) or 0 (default). Comes with 30 categorical and numerical features. The testing data is also 13689 loans.\n",
    "\n",
    "- A data dictionary file is included as well. It is a table explaining each what each feature means.\n",
    "\n",
    "- Groups will judged on how much money their model makes. You will evaluate your model on the testing dataset. You cannot used testing data to train a model.\n",
    "\n",
    "- Your profit will be determined by the amount of money you make from correctly predicting good loans (loan amount * interest rate/100.) subtracted by the money you lose from incorrectly predicting bad loans as good (-loan amount). I have given a function to calculate that.\n",
    "\n",
    "- Finding the correct probability threshold will be super key in determing how much money you make.\n",
    "\n",
    "- **VERY IMPORTANT:** You must transform your testing the data the same way you did your training data. So make sure you have the same columns in the same order.\n",
    "        \n",
    "- I will be on be hand for guidance. However I want you to primarily use your teammates for help. \n",
    "\n",
    "- Use all the tools at your disposal, try all the models we've learned in class. Refer to past class notebooks for help. Be sure to use modeling evaluating techniques such as ROC curves, confusion matrix, recall/precision, etc.\n",
    "\n",
    "- To optimize model, find the right combination of features and the right model with the right parameters. Get creative!\n",
    "\n",
    "- Remember to use your time wisely, it will go by fast. Communicate amongst yourselves often.\n",
    "   "
   ]
  },
  {
   "cell_type": "markdown",
   "metadata": {
    "button": false,
    "new_sheet": false,
    "run_control": {
     "read_only": false
    }
   },
   "source": [
    "### Online resources on Lending Club loan data\n",
    "Kaggle Page: https://www.kaggle.com/wendykan/lending-club-loan-data. Make sure to check out the kernels section.\n",
    "\n",
    "Y Hat tutorial (It's in R, but its still useful): http://blog.yhat.com/posts/machine-learning-for-predicting-bad-loans.html\n",
    "\n",
    "Blog tutorial on the data from Kevin Davenport: http://kldavenport.com/lending-club-data-analysis-revisted-with-python/\n",
    "\n"
   ]
  },
  {
   "cell_type": "markdown",
   "metadata": {
    "button": false,
    "new_sheet": false,
    "run_control": {
     "read_only": false
    }
   },
   "source": [
    "### Class Time\n",
    "No class breaks. But individual breaks are allowed of course.\n",
    "\n",
    "- 6:30 - 7:00\n",
    "    - Feature engineering/selection: make dummy variables, dropping features, scaling, and other methods of transforming data. \n",
    "    - Exploratory data analysis aka get to know your features time.\n",
    "    \n",
    "    \n",
    "- 7:00 - 8:45\n",
    "    - Modeling time!!\n",
    "    \n",
    "    \n",
    "- 8:45 - 9:25\n",
    "    - Model testing.\n",
    "    \n",
    "    \n",
    "- 9:25 - 9:30\n",
    "    - Winner decision. Exit tickets."
   ]
  },
  {
   "cell_type": "code",
   "execution_count": 1,
   "metadata": {
    "button": false,
    "new_sheet": false,
    "run_control": {
     "read_only": false
    }
   },
   "outputs": [],
   "source": [
    "#Imports and set pandas options\n",
    "import pandas as pd\n",
    "import numpy as np\n",
    "import matplotlib.pyplot as plt\n",
    "%matplotlib inline\n",
    "import seaborn as sb\n",
    "pd.set_option(\"max.columns\", 100)\n",
    "pd.set_option(\"max.colwidth\", 100)"
   ]
  },
  {
   "cell_type": "code",
   "execution_count": 72,
   "metadata": {
    "button": false,
    "new_sheet": false,
    "run_control": {
     "read_only": false
    }
   },
   "outputs": [
    {
     "data": {
      "text/html": [
       "<div>\n",
       "<style scoped>\n",
       "    .dataframe tbody tr th:only-of-type {\n",
       "        vertical-align: middle;\n",
       "    }\n",
       "\n",
       "    .dataframe tbody tr th {\n",
       "        vertical-align: top;\n",
       "    }\n",
       "\n",
       "    .dataframe thead th {\n",
       "        text-align: right;\n",
       "    }\n",
       "</style>\n",
       "<table border=\"1\" class=\"dataframe\">\n",
       "  <thead>\n",
       "    <tr style=\"text-align: right;\">\n",
       "      <th></th>\n",
       "      <th>id</th>\n",
       "      <th>loan_amnt</th>\n",
       "      <th>funded_amnt</th>\n",
       "      <th>term</th>\n",
       "      <th>int_rate</th>\n",
       "      <th>installment</th>\n",
       "      <th>grade</th>\n",
       "      <th>emp_title</th>\n",
       "      <th>emp_length</th>\n",
       "      <th>home_ownership</th>\n",
       "      <th>annual_inc</th>\n",
       "      <th>verification_status</th>\n",
       "      <th>loan_status</th>\n",
       "      <th>desc</th>\n",
       "      <th>purpose</th>\n",
       "      <th>title</th>\n",
       "      <th>dti</th>\n",
       "      <th>delinq_2yrs</th>\n",
       "      <th>fico_range_low</th>\n",
       "      <th>fico_range_high</th>\n",
       "      <th>inq_last_6mths</th>\n",
       "      <th>open_acc</th>\n",
       "      <th>pub_rec</th>\n",
       "      <th>revol_bal</th>\n",
       "      <th>revol_util</th>\n",
       "      <th>total_acc</th>\n",
       "      <th>last_credit_pull_d</th>\n",
       "      <th>acc_now_delinq</th>\n",
       "      <th>delinq_amnt</th>\n",
       "      <th>tax_liens</th>\n",
       "    </tr>\n",
       "  </thead>\n",
       "  <tbody>\n",
       "    <tr>\n",
       "      <th>0</th>\n",
       "      <td>742238</td>\n",
       "      <td>3150.0</td>\n",
       "      <td>3150.0</td>\n",
       "      <td>36 months</td>\n",
       "      <td>10.99%</td>\n",
       "      <td>103.12</td>\n",
       "      <td>B</td>\n",
       "      <td>A-1 Casino Rd Mini Storage</td>\n",
       "      <td>9 years</td>\n",
       "      <td>RENT</td>\n",
       "      <td>15300.0</td>\n",
       "      <td>Verified</td>\n",
       "      <td>1</td>\n",
       "      <td>Borrower added on 05/02/11 &gt; I plan to use these funds to pay off a higher rate credit card.&lt;b...</td>\n",
       "      <td>debt_consolidation</td>\n",
       "      <td>lowerinterest</td>\n",
       "      <td>19.76</td>\n",
       "      <td>0.0</td>\n",
       "      <td>695.0</td>\n",
       "      <td>699.0</td>\n",
       "      <td>0.0</td>\n",
       "      <td>5.0</td>\n",
       "      <td>0.0</td>\n",
       "      <td>9316.0</td>\n",
       "      <td>76.4%</td>\n",
       "      <td>9.0</td>\n",
       "      <td>Feb-2014</td>\n",
       "      <td>0.0</td>\n",
       "      <td>0.0</td>\n",
       "      <td>0.0</td>\n",
       "    </tr>\n",
       "    <tr>\n",
       "      <th>1</th>\n",
       "      <td>567423</td>\n",
       "      <td>10000.0</td>\n",
       "      <td>10000.0</td>\n",
       "      <td>36 months</td>\n",
       "      <td>7.51%</td>\n",
       "      <td>311.11</td>\n",
       "      <td>A</td>\n",
       "      <td>ORION MECHANICAL INC.</td>\n",
       "      <td>4 years</td>\n",
       "      <td>OWN</td>\n",
       "      <td>125000.0</td>\n",
       "      <td>Not Verified</td>\n",
       "      <td>1</td>\n",
       "      <td>Borrower added on 08/19/10 &gt; CONSOLIDATE OUT STANDING CREDIT CARD LOANS AND PURCHASES FOR NEW ...</td>\n",
       "      <td>debt_consolidation</td>\n",
       "      <td>CONSOLIDATE</td>\n",
       "      <td>18.43</td>\n",
       "      <td>0.0</td>\n",
       "      <td>800.0</td>\n",
       "      <td>804.0</td>\n",
       "      <td>1.0</td>\n",
       "      <td>16.0</td>\n",
       "      <td>0.0</td>\n",
       "      <td>25364.0</td>\n",
       "      <td>2.9%</td>\n",
       "      <td>40.0</td>\n",
       "      <td>Feb-2017</td>\n",
       "      <td>0.0</td>\n",
       "      <td>0.0</td>\n",
       "      <td>0.0</td>\n",
       "    </tr>\n",
       "  </tbody>\n",
       "</table>\n",
       "</div>"
      ],
      "text/plain": [
       "       id  loan_amnt  funded_amnt        term int_rate  installment grade  \\\n",
       "0  742238     3150.0       3150.0   36 months   10.99%       103.12     B   \n",
       "1  567423    10000.0      10000.0   36 months    7.51%       311.11     A   \n",
       "\n",
       "                    emp_title emp_length home_ownership  annual_inc  \\\n",
       "0  A-1 Casino Rd Mini Storage    9 years           RENT     15300.0   \n",
       "1       ORION MECHANICAL INC.    4 years            OWN    125000.0   \n",
       "\n",
       "  verification_status  loan_status  \\\n",
       "0            Verified            1   \n",
       "1        Not Verified            1   \n",
       "\n",
       "                                                                                                  desc  \\\n",
       "0    Borrower added on 05/02/11 > I plan to use these funds to pay off a higher rate credit card.<b...   \n",
       "1    Borrower added on 08/19/10 > CONSOLIDATE OUT STANDING CREDIT CARD LOANS AND PURCHASES FOR NEW ...   \n",
       "\n",
       "              purpose          title    dti  delinq_2yrs  fico_range_low  \\\n",
       "0  debt_consolidation  lowerinterest  19.76          0.0           695.0   \n",
       "1  debt_consolidation    CONSOLIDATE  18.43          0.0           800.0   \n",
       "\n",
       "   fico_range_high  inq_last_6mths  open_acc  pub_rec  revol_bal revol_util  \\\n",
       "0            699.0             0.0       5.0      0.0     9316.0      76.4%   \n",
       "1            804.0             1.0      16.0      0.0    25364.0       2.9%   \n",
       "\n",
       "   total_acc last_credit_pull_d  acc_now_delinq  delinq_amnt  tax_liens  \n",
       "0        9.0           Feb-2014             0.0          0.0        0.0  \n",
       "1       40.0           Feb-2017             0.0          0.0        0.0  "
      ]
     },
     "execution_count": 72,
     "metadata": {},
     "output_type": "execute_result"
    }
   ],
   "source": [
    "# Load in training data.\n",
    "# Loan_status column is the target variable. Remember to drop it from df.\n",
    "train = pd.read_csv(\"../data/lending_club/challenge_training_data.csv\")\n",
    "train.head(2)"
   ]
  },
  {
   "cell_type": "code",
   "execution_count": 28,
   "metadata": {
    "collapsed": true
   },
   "outputs": [
    {
     "data": {
      "text/plain": [
       "0        1\n",
       "1        1\n",
       "2        1\n",
       "3        1\n",
       "4        1\n",
       "5        1\n",
       "6        0\n",
       "7        1\n",
       "8        1\n",
       "9        0\n",
       "10       1\n",
       "11       1\n",
       "12       1\n",
       "13       1\n",
       "14       1\n",
       "15       1\n",
       "16       1\n",
       "17       1\n",
       "18       1\n",
       "19       1\n",
       "20       1\n",
       "21       1\n",
       "22       1\n",
       "23       1\n",
       "24       1\n",
       "25       1\n",
       "26       1\n",
       "27       1\n",
       "28       1\n",
       "29       1\n",
       "        ..\n",
       "13659    1\n",
       "13660    1\n",
       "13661    1\n",
       "13662    1\n",
       "13663    0\n",
       "13664    1\n",
       "13665    0\n",
       "13666    1\n",
       "13667    1\n",
       "13668    0\n",
       "13669    1\n",
       "13670    1\n",
       "13671    0\n",
       "13672    0\n",
       "13673    1\n",
       "13674    0\n",
       "13675    1\n",
       "13676    0\n",
       "13677    0\n",
       "13678    0\n",
       "13679    1\n",
       "13680    0\n",
       "13681    1\n",
       "13682    0\n",
       "13683    0\n",
       "13684    1\n",
       "13685    1\n",
       "13686    1\n",
       "13687    1\n",
       "13688    1\n",
       "Name: loan_status, Length: 13689, dtype: int64"
      ]
     },
     "execution_count": 28,
     "metadata": {},
     "output_type": "execute_result"
    }
   ],
   "source": [
    "train['loan_status']"
   ]
  },
  {
   "cell_type": "code",
   "execution_count": 4,
   "metadata": {
    "button": false,
    "new_sheet": false,
    "run_control": {
     "read_only": false
    }
   },
   "outputs": [
    {
     "data": {
      "text/html": [
       "<div>\n",
       "<style scoped>\n",
       "    .dataframe tbody tr th:only-of-type {\n",
       "        vertical-align: middle;\n",
       "    }\n",
       "\n",
       "    .dataframe tbody tr th {\n",
       "        vertical-align: top;\n",
       "    }\n",
       "\n",
       "    .dataframe thead th {\n",
       "        text-align: right;\n",
       "    }\n",
       "</style>\n",
       "<table border=\"1\" class=\"dataframe\">\n",
       "  <thead>\n",
       "    <tr style=\"text-align: right;\">\n",
       "      <th></th>\n",
       "      <th>dtypes</th>\n",
       "      <th>name</th>\n",
       "      <th>description</th>\n",
       "    </tr>\n",
       "  </thead>\n",
       "  <tbody>\n",
       "    <tr>\n",
       "      <th>0</th>\n",
       "      <td>float64</td>\n",
       "      <td>loan_amnt</td>\n",
       "      <td>The listed amount of the loan applied for by the borrower. If at some point in time, the credit ...</td>\n",
       "    </tr>\n",
       "    <tr>\n",
       "      <th>1</th>\n",
       "      <td>object</td>\n",
       "      <td>term</td>\n",
       "      <td>The number of payments on the loan. Values are in months and can be either 36 or 60.</td>\n",
       "    </tr>\n",
       "    <tr>\n",
       "      <th>2</th>\n",
       "      <td>float64</td>\n",
       "      <td>installment</td>\n",
       "      <td>The monthly payment owed by the borrower if the loan originates.</td>\n",
       "    </tr>\n",
       "    <tr>\n",
       "      <th>3</th>\n",
       "      <td>object</td>\n",
       "      <td>grade</td>\n",
       "      <td>LC assigned loan grade</td>\n",
       "    </tr>\n",
       "    <tr>\n",
       "      <th>4</th>\n",
       "      <td>object</td>\n",
       "      <td>emp_length</td>\n",
       "      <td>Employment length in years. Possible values are between 0 and 10 where 0 means less than one yea...</td>\n",
       "    </tr>\n",
       "    <tr>\n",
       "      <th>5</th>\n",
       "      <td>object</td>\n",
       "      <td>home_ownership</td>\n",
       "      <td>The home ownership status provided by the borrower during registration or obtained from the cred...</td>\n",
       "    </tr>\n",
       "    <tr>\n",
       "      <th>6</th>\n",
       "      <td>float64</td>\n",
       "      <td>annual_inc</td>\n",
       "      <td>The self-reported annual income provided by the borrower during registration.</td>\n",
       "    </tr>\n",
       "    <tr>\n",
       "      <th>7</th>\n",
       "      <td>object</td>\n",
       "      <td>verification_status</td>\n",
       "      <td>Indicates if income was verified by LC, not verified, or if the income source was verified</td>\n",
       "    </tr>\n",
       "    <tr>\n",
       "      <th>8</th>\n",
       "      <td>object</td>\n",
       "      <td>loan_status</td>\n",
       "      <td>Current status of the loan</td>\n",
       "    </tr>\n",
       "    <tr>\n",
       "      <th>9</th>\n",
       "      <td>object</td>\n",
       "      <td>purpose</td>\n",
       "      <td>A category provided by the borrower for the loan request.</td>\n",
       "    </tr>\n",
       "    <tr>\n",
       "      <th>10</th>\n",
       "      <td>float64</td>\n",
       "      <td>dti</td>\n",
       "      <td>A ratio calculated using the borrower’s total monthly debt payments on the total debt obligation...</td>\n",
       "    </tr>\n",
       "    <tr>\n",
       "      <th>11</th>\n",
       "      <td>float64</td>\n",
       "      <td>delinq_2yrs</td>\n",
       "      <td>The number of 30+ days past-due incidences of delinquency in the borrower's credit file for the ...</td>\n",
       "    </tr>\n",
       "    <tr>\n",
       "      <th>12</th>\n",
       "      <td>float64</td>\n",
       "      <td>open_acc</td>\n",
       "      <td>The number of open credit lines in the borrower's credit file.</td>\n",
       "    </tr>\n",
       "    <tr>\n",
       "      <th>13</th>\n",
       "      <td>float64</td>\n",
       "      <td>revol_bal</td>\n",
       "      <td>Total credit revolving balance</td>\n",
       "    </tr>\n",
       "    <tr>\n",
       "      <th>14</th>\n",
       "      <td>float64</td>\n",
       "      <td>total_acc</td>\n",
       "      <td>The total number of credit lines currently in the borrower's credit file</td>\n",
       "    </tr>\n",
       "    <tr>\n",
       "      <th>15</th>\n",
       "      <td>float64</td>\n",
       "      <td>tot_coll_amt</td>\n",
       "      <td>Total collection amounts ever owed</td>\n",
       "    </tr>\n",
       "    <tr>\n",
       "      <th>16</th>\n",
       "      <td>float64</td>\n",
       "      <td>tot_cur_bal</td>\n",
       "      <td>Total current balance of all accounts</td>\n",
       "    </tr>\n",
       "    <tr>\n",
       "      <th>17</th>\n",
       "      <td>float64</td>\n",
       "      <td>total_rev_hi_lim</td>\n",
       "      <td>Total revolving high credit/credit limit</td>\n",
       "    </tr>\n",
       "    <tr>\n",
       "      <th>18</th>\n",
       "      <td>float64</td>\n",
       "      <td>avg_cur_bal</td>\n",
       "      <td>Average current balance of all accounts</td>\n",
       "    </tr>\n",
       "    <tr>\n",
       "      <th>19</th>\n",
       "      <td>float64</td>\n",
       "      <td>bc_util</td>\n",
       "      <td>Ratio of total current balance to high credit/credit limit for all bankcard accounts.</td>\n",
       "    </tr>\n",
       "    <tr>\n",
       "      <th>20</th>\n",
       "      <td>float64</td>\n",
       "      <td>mort_acc</td>\n",
       "      <td>Number of mortgage accounts.</td>\n",
       "    </tr>\n",
       "    <tr>\n",
       "      <th>21</th>\n",
       "      <td>float64</td>\n",
       "      <td>num_accts_ever_120_pd</td>\n",
       "      <td>Number of accounts ever 120 or more days past due</td>\n",
       "    </tr>\n",
       "    <tr>\n",
       "      <th>22</th>\n",
       "      <td>float64</td>\n",
       "      <td>num_actv_bc_tl</td>\n",
       "      <td>Number of currently active bankcard accounts</td>\n",
       "    </tr>\n",
       "    <tr>\n",
       "      <th>23</th>\n",
       "      <td>float64</td>\n",
       "      <td>num_actv_rev_tl</td>\n",
       "      <td>Number of currently active revolving trades</td>\n",
       "    </tr>\n",
       "    <tr>\n",
       "      <th>24</th>\n",
       "      <td>float64</td>\n",
       "      <td>num_bc_sats</td>\n",
       "      <td>Number of satisfactory bankcard accounts</td>\n",
       "    </tr>\n",
       "    <tr>\n",
       "      <th>25</th>\n",
       "      <td>float64</td>\n",
       "      <td>num_bc_tl</td>\n",
       "      <td>Number of bankcard accounts</td>\n",
       "    </tr>\n",
       "    <tr>\n",
       "      <th>26</th>\n",
       "      <td>float64</td>\n",
       "      <td>num_rev_tl_bal_gt_0</td>\n",
       "      <td>Number of revolving trades with balance &gt;0</td>\n",
       "    </tr>\n",
       "    <tr>\n",
       "      <th>27</th>\n",
       "      <td>float64</td>\n",
       "      <td>num_tl_90g_dpd_24m</td>\n",
       "      <td>Number of accounts 90 or more days past due in last 24 months</td>\n",
       "    </tr>\n",
       "    <tr>\n",
       "      <th>28</th>\n",
       "      <td>float64</td>\n",
       "      <td>num_tl_op_past_12m</td>\n",
       "      <td>Number of accounts opened in past 12 months</td>\n",
       "    </tr>\n",
       "    <tr>\n",
       "      <th>29</th>\n",
       "      <td>float64</td>\n",
       "      <td>total_bal_ex_mort</td>\n",
       "      <td>Total credit balance excluding mortgage</td>\n",
       "    </tr>\n",
       "    <tr>\n",
       "      <th>30</th>\n",
       "      <td>float64</td>\n",
       "      <td>total_bc_limit</td>\n",
       "      <td>Total bankcard high credit/credit limit</td>\n",
       "    </tr>\n",
       "    <tr>\n",
       "      <th>31</th>\n",
       "      <td>float64</td>\n",
       "      <td>total_il_high_credit_limit</td>\n",
       "      <td>Total installment high credit/credit limit</td>\n",
       "    </tr>\n",
       "    <tr>\n",
       "      <th>32</th>\n",
       "      <td>floa64</td>\n",
       "      <td>fico_average</td>\n",
       "      <td>The average of the fico high and low range scores</td>\n",
       "    </tr>\n",
       "  </tbody>\n",
       "</table>\n",
       "</div>"
      ],
      "text/plain": [
       "     dtypes                        name  \\\n",
       "0   float64                   loan_amnt   \n",
       "1    object                        term   \n",
       "2   float64                 installment   \n",
       "3    object                       grade   \n",
       "4    object                  emp_length   \n",
       "5    object              home_ownership   \n",
       "6   float64                  annual_inc   \n",
       "7    object         verification_status   \n",
       "8    object                 loan_status   \n",
       "9    object                     purpose   \n",
       "10  float64                         dti   \n",
       "11  float64                 delinq_2yrs   \n",
       "12  float64                    open_acc   \n",
       "13  float64                   revol_bal   \n",
       "14  float64                   total_acc   \n",
       "15  float64                tot_coll_amt   \n",
       "16  float64                 tot_cur_bal   \n",
       "17  float64            total_rev_hi_lim   \n",
       "18  float64                 avg_cur_bal   \n",
       "19  float64                     bc_util   \n",
       "20  float64                    mort_acc   \n",
       "21  float64       num_accts_ever_120_pd   \n",
       "22  float64              num_actv_bc_tl   \n",
       "23  float64             num_actv_rev_tl   \n",
       "24  float64                 num_bc_sats   \n",
       "25  float64                   num_bc_tl   \n",
       "26  float64         num_rev_tl_bal_gt_0   \n",
       "27  float64          num_tl_90g_dpd_24m   \n",
       "28  float64          num_tl_op_past_12m   \n",
       "29  float64           total_bal_ex_mort   \n",
       "30  float64              total_bc_limit   \n",
       "31  float64  total_il_high_credit_limit   \n",
       "32   floa64                fico_average   \n",
       "\n",
       "                                                                                            description  \n",
       "0   The listed amount of the loan applied for by the borrower. If at some point in time, the credit ...  \n",
       "1                  The number of payments on the loan. Values are in months and can be either 36 or 60.  \n",
       "2                                      The monthly payment owed by the borrower if the loan originates.  \n",
       "3                                                                                LC assigned loan grade  \n",
       "4   Employment length in years. Possible values are between 0 and 10 where 0 means less than one yea...  \n",
       "5   The home ownership status provided by the borrower during registration or obtained from the cred...  \n",
       "6                         The self-reported annual income provided by the borrower during registration.  \n",
       "7            Indicates if income was verified by LC, not verified, or if the income source was verified  \n",
       "8                                                                            Current status of the loan  \n",
       "9                                            A category provided by the borrower for the loan request.   \n",
       "10  A ratio calculated using the borrower’s total monthly debt payments on the total debt obligation...  \n",
       "11  The number of 30+ days past-due incidences of delinquency in the borrower's credit file for the ...  \n",
       "12                                       The number of open credit lines in the borrower's credit file.  \n",
       "13                                                                       Total credit revolving balance  \n",
       "14                             The total number of credit lines currently in the borrower's credit file  \n",
       "15                                                                   Total collection amounts ever owed  \n",
       "16                                                                Total current balance of all accounts  \n",
       "17                                                             Total revolving high credit/credit limit  \n",
       "18                                                              Average current balance of all accounts  \n",
       "19                Ratio of total current balance to high credit/credit limit for all bankcard accounts.  \n",
       "20                                                                         Number of mortgage accounts.  \n",
       "21                                                    Number of accounts ever 120 or more days past due  \n",
       "22                                                         Number of currently active bankcard accounts  \n",
       "23                                                          Number of currently active revolving trades  \n",
       "24                                                             Number of satisfactory bankcard accounts  \n",
       "25                                                                          Number of bankcard accounts  \n",
       "26                                                           Number of revolving trades with balance >0  \n",
       "27                                        Number of accounts 90 or more days past due in last 24 months  \n",
       "28                                                          Number of accounts opened in past 12 months  \n",
       "29                                                              Total credit balance excluding mortgage  \n",
       "30                                                              Total bankcard high credit/credit limit  \n",
       "31                                                           Total installment high credit/credit limit  \n",
       "32                                                    The average of the fico high and low range scores  "
      ]
     },
     "execution_count": 4,
     "metadata": {},
     "output_type": "execute_result"
    }
   ],
   "source": [
    "#Load in data dictionary\n",
    "data_dict = pd.read_csv(\"../data/lending_club/the_data_dictionary.csv\")\n",
    "data_dict"
   ]
  },
  {
   "cell_type": "code",
   "execution_count": 13,
   "metadata": {
    "button": false,
    "new_sheet": false,
    "run_control": {
     "read_only": false
    }
   },
   "outputs": [],
   "source": [
    "#Load in test data when you're ready \n",
    "test = pd.read_csv(\"../data/lending_club/challenge_testing_data.csv\")"
   ]
  },
  {
   "cell_type": "markdown",
   "metadata": {
    "button": false,
    "new_sheet": false,
    "run_control": {
     "read_only": false
    }
   },
   "source": [
    "Here is the threshold function. Input your probabilities for class 1 and set a probability threshold of your choice. The default threshold is 0.5. The output will be 1's and 0s, 1 values for all the values that are greater or equal to your predetermined threshold value."
   ]
  },
  {
   "cell_type": "code",
   "execution_count": 5,
   "metadata": {
    "button": false,
    "new_sheet": false,
    "run_control": {
     "read_only": false
    }
   },
   "outputs": [],
   "source": [
    "\n",
    "def threshold(probs, thres = 0.5):\n",
    "    output = np.where(probs >= thres, 1, 0)\n",
    "    return output"
   ]
  },
  {
   "cell_type": "markdown",
   "metadata": {
    "button": false,
    "new_sheet": false,
    "run_control": {
     "read_only": false
    }
   },
   "source": [
    "This is the profit function. It takes in a dataframe with the loan_amnt, int_rate, target variable, and class predictions values.\n",
    "\n",
    "- It first checks to see if a row has 0 in the outcome column and 1 in the predicted (false positive) and returns the negative value of the loan_amnt. This is how much money you lost for loans that mean that condition.\n",
    "\n",
    "- Then it checks for true positives, meaning conditions where both the target and predicted values equal 1, then return the loan_amnt times the int_rate divided by 100. This is how much money you made from loans that meet this condition.\n",
    "\n",
    "- Everything else gets a zero."
   ]
  },
  {
   "cell_type": "code",
   "execution_count": 6,
   "metadata": {
    "button": false,
    "new_sheet": false,
    "run_control": {
     "read_only": false
    }
   },
   "outputs": [],
   "source": [
    "def profit_function(data):\n",
    "    if data.target == 0 and data.predicted == 1:\n",
    "        return -1 *data.loan_amnt\n",
    "    elif data.target == 1 and data.predicted == 1:\n",
    "        return data.loan_amnt * (data.int_rate/100.)\n",
    "    else:\n",
    "        return 0"
   ]
  },
  {
   "cell_type": "markdown",
   "metadata": {
    "button": false,
    "new_sheet": false,
    "run_control": {
     "read_only": false
    }
   },
   "source": [
    "Here's an example of using the threshold and profit_functions"
   ]
  },
  {
   "cell_type": "code",
   "execution_count": 7,
   "metadata": {
    "button": false,
    "new_sheet": false,
    "run_control": {
     "read_only": false
    }
   },
   "outputs": [
    {
     "data": {
      "text/plain": [
       "array([0, 0, 1, 1, 0, 1])"
      ]
     },
     "execution_count": 7,
     "metadata": {},
     "output_type": "execute_result"
    }
   ],
   "source": [
    "#List of probabilities\n",
    "probs = np.array([0.2, 0.5, 0.8, 0.9, 0.1, 0.75])\n",
    "\n",
    "#Pass in probabilities into threshold function, using .7 as threshold\n",
    "preds = threshold(probs, thres=.7)\n",
    "preds"
   ]
  },
  {
   "cell_type": "code",
   "execution_count": 8,
   "metadata": {
    "button": false,
    "new_sheet": false,
    "run_control": {
     "read_only": false
    }
   },
   "outputs": [
    {
     "data": {
      "text/html": [
       "<div>\n",
       "<style scoped>\n",
       "    .dataframe tbody tr th:only-of-type {\n",
       "        vertical-align: middle;\n",
       "    }\n",
       "\n",
       "    .dataframe tbody tr th {\n",
       "        vertical-align: top;\n",
       "    }\n",
       "\n",
       "    .dataframe thead th {\n",
       "        text-align: right;\n",
       "    }\n",
       "</style>\n",
       "<table border=\"1\" class=\"dataframe\">\n",
       "  <thead>\n",
       "    <tr style=\"text-align: right;\">\n",
       "      <th></th>\n",
       "      <th>int_rate</th>\n",
       "      <th>loan_amnt</th>\n",
       "      <th>target</th>\n",
       "    </tr>\n",
       "  </thead>\n",
       "  <tbody>\n",
       "    <tr>\n",
       "      <th>0</th>\n",
       "      <td>18</td>\n",
       "      <td>1000</td>\n",
       "      <td>0</td>\n",
       "    </tr>\n",
       "    <tr>\n",
       "      <th>1</th>\n",
       "      <td>20</td>\n",
       "      <td>500</td>\n",
       "      <td>1</td>\n",
       "    </tr>\n",
       "    <tr>\n",
       "      <th>2</th>\n",
       "      <td>4</td>\n",
       "      <td>200</td>\n",
       "      <td>0</td>\n",
       "    </tr>\n",
       "    <tr>\n",
       "      <th>3</th>\n",
       "      <td>5</td>\n",
       "      <td>5000</td>\n",
       "      <td>1</td>\n",
       "    </tr>\n",
       "    <tr>\n",
       "      <th>4</th>\n",
       "      <td>2</td>\n",
       "      <td>3000</td>\n",
       "      <td>0</td>\n",
       "    </tr>\n",
       "    <tr>\n",
       "      <th>5</th>\n",
       "      <td>10</td>\n",
       "      <td>6000</td>\n",
       "      <td>1</td>\n",
       "    </tr>\n",
       "  </tbody>\n",
       "</table>\n",
       "</div>"
      ],
      "text/plain": [
       "   int_rate  loan_amnt  target\n",
       "0        18       1000       0\n",
       "1        20        500       1\n",
       "2         4        200       0\n",
       "3         5       5000       1\n",
       "4         2       3000       0\n",
       "5        10       6000       1"
      ]
     },
     "execution_count": 8,
     "metadata": {},
     "output_type": "execute_result"
    }
   ],
   "source": [
    "sample_df = {\"loan_amnt\": [1000, 500, 200, 5000, 3000, 6000],\n",
    "            \"int_rate\": [18, 20, 4, 5, 2, 10], \n",
    "            \"target\": [0, 1, 0, 1, 0, 1]}\n",
    "\n",
    "#Put dictionary in data frame\n",
    "\n",
    "profit_df = pd.DataFrame(sample_df)\n",
    "\n",
    "profit_df"
   ]
  },
  {
   "cell_type": "code",
   "execution_count": 9,
   "metadata": {
    "button": false,
    "new_sheet": false,
    "run_control": {
     "read_only": false
    }
   },
   "outputs": [
    {
     "data": {
      "text/html": [
       "<div>\n",
       "<style scoped>\n",
       "    .dataframe tbody tr th:only-of-type {\n",
       "        vertical-align: middle;\n",
       "    }\n",
       "\n",
       "    .dataframe tbody tr th {\n",
       "        vertical-align: top;\n",
       "    }\n",
       "\n",
       "    .dataframe thead th {\n",
       "        text-align: right;\n",
       "    }\n",
       "</style>\n",
       "<table border=\"1\" class=\"dataframe\">\n",
       "  <thead>\n",
       "    <tr style=\"text-align: right;\">\n",
       "      <th></th>\n",
       "      <th>int_rate</th>\n",
       "      <th>loan_amnt</th>\n",
       "      <th>target</th>\n",
       "      <th>predicted</th>\n",
       "    </tr>\n",
       "  </thead>\n",
       "  <tbody>\n",
       "    <tr>\n",
       "      <th>0</th>\n",
       "      <td>18</td>\n",
       "      <td>1000</td>\n",
       "      <td>0</td>\n",
       "      <td>0</td>\n",
       "    </tr>\n",
       "    <tr>\n",
       "      <th>1</th>\n",
       "      <td>20</td>\n",
       "      <td>500</td>\n",
       "      <td>1</td>\n",
       "      <td>0</td>\n",
       "    </tr>\n",
       "    <tr>\n",
       "      <th>2</th>\n",
       "      <td>4</td>\n",
       "      <td>200</td>\n",
       "      <td>0</td>\n",
       "      <td>1</td>\n",
       "    </tr>\n",
       "    <tr>\n",
       "      <th>3</th>\n",
       "      <td>5</td>\n",
       "      <td>5000</td>\n",
       "      <td>1</td>\n",
       "      <td>1</td>\n",
       "    </tr>\n",
       "    <tr>\n",
       "      <th>4</th>\n",
       "      <td>2</td>\n",
       "      <td>3000</td>\n",
       "      <td>0</td>\n",
       "      <td>0</td>\n",
       "    </tr>\n",
       "    <tr>\n",
       "      <th>5</th>\n",
       "      <td>10</td>\n",
       "      <td>6000</td>\n",
       "      <td>1</td>\n",
       "      <td>1</td>\n",
       "    </tr>\n",
       "  </tbody>\n",
       "</table>\n",
       "</div>"
      ],
      "text/plain": [
       "   int_rate  loan_amnt  target  predicted\n",
       "0        18       1000       0          0\n",
       "1        20        500       1          0\n",
       "2         4        200       0          1\n",
       "3         5       5000       1          1\n",
       "4         2       3000       0          0\n",
       "5        10       6000       1          1"
      ]
     },
     "execution_count": 9,
     "metadata": {},
     "output_type": "execute_result"
    }
   ],
   "source": [
    "#Add in predictions\n",
    "\n",
    "profit_df[\"predicted\"] = preds\n",
    "profit_df"
   ]
  },
  {
   "cell_type": "code",
   "execution_count": 10,
   "metadata": {
    "button": false,
    "new_sheet": false,
    "run_control": {
     "read_only": false
    }
   },
   "outputs": [
    {
     "data": {
      "text/plain": [
       "0      0.0\n",
       "1      0.0\n",
       "2   -200.0\n",
       "3    250.0\n",
       "4      0.0\n",
       "5    600.0\n",
       "dtype: float64"
      ]
     },
     "execution_count": 10,
     "metadata": {},
     "output_type": "execute_result"
    }
   ],
   "source": [
    "#Apply function onto data frame\n",
    "profit_series = profit_df.apply(profit_function, axis = 1)\n",
    "profit_series"
   ]
  },
  {
   "cell_type": "code",
   "execution_count": 11,
   "metadata": {
    "button": false,
    "new_sheet": false,
    "run_control": {
     "read_only": false
    }
   },
   "outputs": [
    {
     "data": {
      "text/plain": [
       "650.0"
      ]
     },
     "execution_count": 11,
     "metadata": {},
     "output_type": "execute_result"
    }
   ],
   "source": [
    "#Sum up profits and losses\n",
    "profit_series.sum()"
   ]
  },
  {
   "cell_type": "markdown",
   "metadata": {
    "button": false,
    "new_sheet": false,
    "run_control": {
     "read_only": false
    }
   },
   "source": [
    "This model made $650"
   ]
  },
  {
   "cell_type": "code",
   "execution_count": 67,
   "metadata": {
    "button": false,
    "new_sheet": false,
    "run_control": {
     "read_only": false
    }
   },
   "outputs": [
    {
     "name": "stdout",
     "output_type": "stream",
     "text": [
      "<class 'pandas.core.frame.DataFrame'>\n",
      "RangeIndex: 13689 entries, 0 to 13688\n",
      "Data columns (total 30 columns):\n",
      "id                     13689 non-null int64\n",
      "loan_amnt              13689 non-null float64\n",
      "funded_amnt            13689 non-null float64\n",
      "term                   13689 non-null object\n",
      "int_rate               13689 non-null object\n",
      "installment            13689 non-null float64\n",
      "grade                  13689 non-null object\n",
      "emp_title              13687 non-null object\n",
      "emp_length             13666 non-null object\n",
      "home_ownership         13689 non-null object\n",
      "annual_inc             13689 non-null float64\n",
      "verification_status    13689 non-null object\n",
      "loan_status            13689 non-null int64\n",
      "desc                   13689 non-null object\n",
      "purpose                13689 non-null object\n",
      "title                  13689 non-null object\n",
      "dti                    13689 non-null float64\n",
      "delinq_2yrs            13689 non-null float64\n",
      "fico_range_low         13689 non-null float64\n",
      "fico_range_high        13689 non-null float64\n",
      "inq_last_6mths         13689 non-null float64\n",
      "open_acc               13689 non-null float64\n",
      "pub_rec                13689 non-null float64\n",
      "revol_bal              13689 non-null float64\n",
      "revol_util             13689 non-null object\n",
      "total_acc              13689 non-null float64\n",
      "last_credit_pull_d     13689 non-null object\n",
      "acc_now_delinq         13689 non-null float64\n",
      "delinq_amnt            13689 non-null float64\n",
      "tax_liens              13689 non-null float64\n",
      "dtypes: float64(16), int64(2), object(12)\n",
      "memory usage: 3.1+ MB\n"
     ]
    }
   ],
   "source": [
    "train.info()"
   ]
  },
  {
   "cell_type": "code",
   "execution_count": 27,
   "metadata": {
    "button": false,
    "collapsed": true,
    "new_sheet": false,
    "run_control": {
     "read_only": false
    }
   },
   "outputs": [
    {
     "data": {
      "text/html": [
       "<div>\n",
       "<style scoped>\n",
       "    .dataframe tbody tr th:only-of-type {\n",
       "        vertical-align: middle;\n",
       "    }\n",
       "\n",
       "    .dataframe tbody tr th {\n",
       "        vertical-align: top;\n",
       "    }\n",
       "\n",
       "    .dataframe thead th {\n",
       "        text-align: right;\n",
       "    }\n",
       "</style>\n",
       "<table border=\"1\" class=\"dataframe\">\n",
       "  <thead>\n",
       "    <tr style=\"text-align: right;\">\n",
       "      <th></th>\n",
       "      <th>id</th>\n",
       "      <th>loan_amnt</th>\n",
       "      <th>funded_amnt</th>\n",
       "      <th>term</th>\n",
       "      <th>int_rate</th>\n",
       "      <th>installment</th>\n",
       "      <th>grade</th>\n",
       "      <th>emp_title</th>\n",
       "      <th>emp_length</th>\n",
       "      <th>home_ownership</th>\n",
       "      <th>annual_inc</th>\n",
       "      <th>verification_status</th>\n",
       "      <th>loan_status</th>\n",
       "      <th>desc</th>\n",
       "      <th>purpose</th>\n",
       "      <th>title</th>\n",
       "      <th>dti</th>\n",
       "      <th>delinq_2yrs</th>\n",
       "      <th>fico_range_low</th>\n",
       "      <th>fico_range_high</th>\n",
       "      <th>inq_last_6mths</th>\n",
       "      <th>open_acc</th>\n",
       "      <th>pub_rec</th>\n",
       "      <th>revol_bal</th>\n",
       "      <th>revol_util</th>\n",
       "      <th>total_acc</th>\n",
       "      <th>last_credit_pull_d</th>\n",
       "      <th>acc_now_delinq</th>\n",
       "      <th>delinq_amnt</th>\n",
       "      <th>tax_liens</th>\n",
       "    </tr>\n",
       "  </thead>\n",
       "  <tbody>\n",
       "    <tr>\n",
       "      <th>0</th>\n",
       "      <td>742238</td>\n",
       "      <td>3150.0</td>\n",
       "      <td>3150.0</td>\n",
       "      <td>36 months</td>\n",
       "      <td>10.99%</td>\n",
       "      <td>103.12</td>\n",
       "      <td>B</td>\n",
       "      <td>A-1 Casino Rd Mini Storage</td>\n",
       "      <td>9 years</td>\n",
       "      <td>RENT</td>\n",
       "      <td>15300.0</td>\n",
       "      <td>Verified</td>\n",
       "      <td>1</td>\n",
       "      <td>Borrower added on 05/02/11 &gt; I plan to use these funds to pay off a higher rate credit card.&lt;b...</td>\n",
       "      <td>debt_consolidation</td>\n",
       "      <td>lowerinterest</td>\n",
       "      <td>19.76</td>\n",
       "      <td>0.0</td>\n",
       "      <td>695.0</td>\n",
       "      <td>699.0</td>\n",
       "      <td>0.0</td>\n",
       "      <td>5.0</td>\n",
       "      <td>0.0</td>\n",
       "      <td>9316.0</td>\n",
       "      <td>76.4%</td>\n",
       "      <td>9.0</td>\n",
       "      <td>Feb-2014</td>\n",
       "      <td>0.0</td>\n",
       "      <td>0.0</td>\n",
       "      <td>0.0</td>\n",
       "    </tr>\n",
       "    <tr>\n",
       "      <th>1</th>\n",
       "      <td>567423</td>\n",
       "      <td>10000.0</td>\n",
       "      <td>10000.0</td>\n",
       "      <td>36 months</td>\n",
       "      <td>7.51%</td>\n",
       "      <td>311.11</td>\n",
       "      <td>A</td>\n",
       "      <td>ORION MECHANICAL INC.</td>\n",
       "      <td>4 years</td>\n",
       "      <td>OWN</td>\n",
       "      <td>125000.0</td>\n",
       "      <td>Not Verified</td>\n",
       "      <td>1</td>\n",
       "      <td>Borrower added on 08/19/10 &gt; CONSOLIDATE OUT STANDING CREDIT CARD LOANS AND PURCHASES FOR NEW ...</td>\n",
       "      <td>debt_consolidation</td>\n",
       "      <td>CONSOLIDATE</td>\n",
       "      <td>18.43</td>\n",
       "      <td>0.0</td>\n",
       "      <td>800.0</td>\n",
       "      <td>804.0</td>\n",
       "      <td>1.0</td>\n",
       "      <td>16.0</td>\n",
       "      <td>0.0</td>\n",
       "      <td>25364.0</td>\n",
       "      <td>2.9%</td>\n",
       "      <td>40.0</td>\n",
       "      <td>Feb-2017</td>\n",
       "      <td>0.0</td>\n",
       "      <td>0.0</td>\n",
       "      <td>0.0</td>\n",
       "    </tr>\n",
       "  </tbody>\n",
       "</table>\n",
       "</div>"
      ],
      "text/plain": [
       "       id  loan_amnt  funded_amnt        term int_rate  installment grade  \\\n",
       "0  742238     3150.0       3150.0   36 months   10.99%       103.12     B   \n",
       "1  567423    10000.0      10000.0   36 months    7.51%       311.11     A   \n",
       "\n",
       "                    emp_title emp_length home_ownership  annual_inc  \\\n",
       "0  A-1 Casino Rd Mini Storage    9 years           RENT     15300.0   \n",
       "1       ORION MECHANICAL INC.    4 years            OWN    125000.0   \n",
       "\n",
       "  verification_status  loan_status  \\\n",
       "0            Verified            1   \n",
       "1        Not Verified            1   \n",
       "\n",
       "                                                                                                  desc  \\\n",
       "0    Borrower added on 05/02/11 > I plan to use these funds to pay off a higher rate credit card.<b...   \n",
       "1    Borrower added on 08/19/10 > CONSOLIDATE OUT STANDING CREDIT CARD LOANS AND PURCHASES FOR NEW ...   \n",
       "\n",
       "              purpose          title    dti  delinq_2yrs  fico_range_low  \\\n",
       "0  debt_consolidation  lowerinterest  19.76          0.0           695.0   \n",
       "1  debt_consolidation    CONSOLIDATE  18.43          0.0           800.0   \n",
       "\n",
       "   fico_range_high  inq_last_6mths  open_acc  pub_rec  revol_bal revol_util  \\\n",
       "0            699.0             0.0       5.0      0.0     9316.0      76.4%   \n",
       "1            804.0             1.0      16.0      0.0    25364.0       2.9%   \n",
       "\n",
       "   total_acc last_credit_pull_d  acc_now_delinq  delinq_amnt  tax_liens  \n",
       "0        9.0           Feb-2014             0.0          0.0        0.0  \n",
       "1       40.0           Feb-2017             0.0          0.0        0.0  "
      ]
     },
     "execution_count": 27,
     "metadata": {},
     "output_type": "execute_result"
    }
   ],
   "source": [
    "train.head(2)"
   ]
  },
  {
   "cell_type": "markdown",
   "metadata": {
    "button": false,
    "new_sheet": false,
    "run_control": {
     "read_only": false
    }
   },
   "source": [
    "## Let the games begin!!"
   ]
  },
  {
   "cell_type": "code",
   "execution_count": 65,
   "metadata": {
    "button": false,
    "new_sheet": false,
    "run_control": {
     "read_only": false
    }
   },
   "outputs": [],
   "source": [
    "import gc\n",
    "from sklearn.preprocessing import StandardScaler, MinMaxScaler, LabelEncoder\n",
    "from sklearn.cross_validation import cross_val_score, train_test_split\n",
    "import pandas as pd\n",
    "import numpy as np\n",
    "import matplotlib.pyplot as plt\n",
    "from datetime import date, timedelta\n",
    "import datetime as dt\n",
    "import seaborn as sns\n",
    "%matplotlib inline\n",
    "\n",
    "from sklearn.metrics import accuracy_score\n",
    "from xgboost import XGBClassifier\n",
    "\n",
    "import tensorflow as tf\n",
    "from keras.models import Sequential\n",
    "from keras.layers import Dense\n",
    "from keras.wrappers.scikit_learn import KerasRegressor\n",
    "from keras.layers import Dense, Dropout, Activation\n",
    "from keras.callbacks import EarlyStopping\n",
    "from keras.utils.np_utils import to_categorical\n",
    "from sklearn.ensemble import AdaBoostClassifier"
   ]
  },
  {
   "cell_type": "code",
   "execution_count": 206,
   "metadata": {},
   "outputs": [],
   "source": [
    "def length_decider(x):\n",
    "    if x== \"36 months\":\n",
    "        return 3\n",
    "    else:\n",
    "        return 5\n",
    "\n",
    "df.term=df.term.apply(length_decider)\n",
    "\n",
    "df.int_rate = df.int_rate.str.replace(\"%\", \"\")\n",
    "\n",
    "df.revol_util = df.revol_util.str.replace(\"%\", \"\")\n",
    "\n",
    "df.drop([\"emp_title\", \"desc\", \"title\", \"last_credit_pull_d\"], inplace=True, axis=1 )\n",
    "\n",
    "df.drop([\"verification_status\"], inplace=True, axis=1 )\n",
    "\n",
    "\n",
    "df.emp_length = df.emp_length.str.replace(\" years\", \"\")\n",
    "\n",
    "df[\"int_rate\"] = df.int_rate.astype(float)\n",
    "\n",
    "df[\"revol_util\"] = df.revol_util.astype(float)"
   ]
  },
  {
   "cell_type": "code",
   "execution_count": 204,
   "metadata": {},
   "outputs": [],
   "source": [
    "train = pd.read_csv(\"../data/lending_club/challenge_training_data.csv\")\n",
    "df = train"
   ]
  },
  {
   "cell_type": "code",
   "execution_count": 207,
   "metadata": {},
   "outputs": [],
   "source": [
    "cols= ['grade', 'emp_length','home_ownership', 'purpose']\n",
    "for col in cols:\n",
    "    if(df[col].dtypes== object):\n",
    "        #print df[col].dtypes\n",
    "            dummy = pd.get_dummies(df[col], prefix = df[col].name, drop_first = False)\n",
    "            df = pd.concat([df, dummy], axis = 1)\n",
    "            del dummy\n",
    "            gc.collect()\n"
   ]
  },
  {
   "cell_type": "code",
   "execution_count": 211,
   "metadata": {},
   "outputs": [],
   "source": [
    "df.drop('emp_length_10+', axis=1, inplace=True)"
   ]
  },
  {
   "cell_type": "code",
   "execution_count": 212,
   "metadata": {},
   "outputs": [],
   "source": [
    "df.drop('emp_length_< 1 year', axis=1, inplace=True)"
   ]
  },
  {
   "cell_type": "code",
   "execution_count": 227,
   "metadata": {},
   "outputs": [],
   "source": [
    "df.drop('home_ownership_NONE', axis=1, inplace=True)"
   ]
  },
  {
   "cell_type": "code",
   "execution_count": 213,
   "metadata": {},
   "outputs": [],
   "source": [
    "df.drop([\"grade\", \"home_ownership\", \"purpose\",'emp_length'], axis=1, inplace=True)\n"
   ]
  },
  {
   "cell_type": "code",
   "execution_count": 228,
   "metadata": {},
   "outputs": [],
   "source": [
    "y = df.loan_status\n",
    "X = df.drop(\"loan_status\", axis=1)"
   ]
  },
  {
   "cell_type": "markdown",
   "metadata": {},
   "source": [
    "## Null accuracy\n",
    "- 79%"
   ]
  },
  {
   "cell_type": "code",
   "execution_count": 114,
   "metadata": {},
   "outputs": [
    {
     "data": {
      "text/plain": [
       "1    0.792169\n",
       "0    0.207831\n",
       "Name: loan_status, dtype: float64"
      ]
     },
     "execution_count": 114,
     "metadata": {},
     "output_type": "execute_result"
    }
   ],
   "source": [
    "df.loan_status.value_counts(normalize=True)"
   ]
  },
  {
   "cell_type": "code",
   "execution_count": null,
   "metadata": {},
   "outputs": [],
   "source": [
    "cv_score = cross_val_score(model, X, y, cv =5 , scoring=\"accuracy\").mean()"
   ]
  },
  {
   "cell_type": "markdown",
   "metadata": {},
   "source": [
    "## Try XGboost\n",
    "- score: 86%"
   ]
  },
  {
   "cell_type": "code",
   "execution_count": 230,
   "metadata": {},
   "outputs": [
    {
     "data": {
      "text/plain": [
       "XGBClassifier(base_score=0.5, colsample_bylevel=1, colsample_bytree=1,\n",
       "       gamma=0, learning_rate=0.1, max_delta_step=0, max_depth=3,\n",
       "       min_child_weight=1, missing=None, n_estimators=100, nthread=-1,\n",
       "       objective='binary:logistic', reg_alpha=0, reg_lambda=1,\n",
       "       scale_pos_weight=1, seed=0, silent=True, subsample=1)"
      ]
     },
     "execution_count": 230,
     "metadata": {},
     "output_type": "execute_result"
    }
   ],
   "source": [
    "model = XGBClassifier()\n",
    "model.fit(X,y)\n",
    "cv_score = cross_val_score(model, X, y, cv =5 , scoring=\"precision\").mean()"
   ]
  },
  {
   "cell_type": "code",
   "execution_count": 184,
   "metadata": {},
   "outputs": [
    {
     "data": {
      "text/plain": [
       "0.85776640051450226"
      ]
     },
     "execution_count": 184,
     "metadata": {},
     "output_type": "execute_result"
    }
   ],
   "source": [
    "cv_score"
   ]
  },
  {
   "cell_type": "code",
   "execution_count": 120,
   "metadata": {},
   "outputs": [
    {
     "data": {
      "text/plain": [
       "0.87004163927240852"
      ]
     },
     "execution_count": 120,
     "metadata": {},
     "output_type": "execute_result"
    }
   ],
   "source": [
    "model.score(X,y)"
   ]
  },
  {
   "cell_type": "markdown",
   "metadata": {},
   "source": [
    "## Try Keras\n",
    "- score: 79%"
   ]
  },
  {
   "cell_type": "code",
   "execution_count": 159,
   "metadata": {},
   "outputs": [],
   "source": [
    "seed = 7\n",
    "np.random.seed(seed)\n",
    "\n",
    "n_cols = X.shape[1]\n",
    "model = Sequential()\n",
    "model.add(Dense(10, activation=\"relu\", input_shape=(n_cols,)))\n",
    "n_unique = len(pd.unique(y))\n",
    "model.add(Dense(n_unique, activation= \"sigmoid\"))\n"
   ]
  },
  {
   "cell_type": "code",
   "execution_count": 156,
   "metadata": {
    "collapsed": true
   },
   "outputs": [
    {
     "data": {
      "text/plain": [
       "array([[ 0.,  1.],\n",
       "       [ 0.,  1.],\n",
       "       [ 0.,  1.],\n",
       "       ..., \n",
       "       [ 0.,  1.],\n",
       "       [ 0.,  1.],\n",
       "       [ 0.,  1.]])"
      ]
     },
     "execution_count": 156,
     "metadata": {},
     "output_type": "execute_result"
    }
   ],
   "source": [
    "y_binary = to_categorical(y)\n",
    "y_binary"
   ]
  },
  {
   "cell_type": "code",
   "execution_count": 162,
   "metadata": {},
   "outputs": [],
   "source": [
    "model.compile(optimizer='sgd', loss='categorical_crossentropy', metrics=['accuracy'])\n"
   ]
  },
  {
   "cell_type": "code",
   "execution_count": 164,
   "metadata": {},
   "outputs": [
    {
     "name": "stdout",
     "output_type": "stream",
     "text": [
      "Epoch 1/40\n",
      "13689/13689 [==============================] - 0s 6us/step - loss: 3.3498 - acc: 0.7922\n",
      "Epoch 2/40\n",
      "13689/13689 [==============================] - 0s 8us/step - loss: 3.3498 - acc: 0.7922\n",
      "Epoch 3/40\n",
      "13689/13689 [==============================] - 0s 7us/step - loss: 3.3498 - acc: 0.7922\n",
      "Epoch 4/40\n",
      "13689/13689 [==============================] - 0s 6us/step - loss: 3.3498 - acc: 0.7922\n",
      "Epoch 5/40\n",
      "13689/13689 [==============================] - 0s 9us/step - loss: 3.3498 - acc: 0.7922\n",
      "Epoch 6/40\n",
      "13689/13689 [==============================] - 0s 9us/step - loss: 3.3498 - acc: 0.7922\n",
      "Epoch 7/40\n",
      "13689/13689 [==============================] - 0s 7us/step - loss: 3.3498 - acc: 0.7922\n",
      "Epoch 8/40\n",
      "13689/13689 [==============================] - 0s 8us/step - loss: 3.3498 - acc: 0.7922\n",
      "Epoch 9/40\n",
      "13689/13689 [==============================] - 0s 9us/step - loss: 3.3498 - acc: 0.7922\n",
      "Epoch 10/40\n",
      "13689/13689 [==============================] - 0s 9us/step - loss: 3.3498 - acc: 0.7922\n",
      "Epoch 11/40\n",
      "13689/13689 [==============================] - 0s 14us/step - loss: 3.3498 - acc: 0.7922\n",
      "Epoch 12/40\n",
      "13689/13689 [==============================] - 0s 10us/step - loss: 3.3498 - acc: 0.7922\n",
      "Epoch 13/40\n",
      "13689/13689 [==============================] - 0s 7us/step - loss: 3.3498 - acc: 0.7922\n",
      "Epoch 14/40\n",
      "13689/13689 [==============================] - 0s 7us/step - loss: 3.3498 - acc: 0.7922\n",
      "Epoch 15/40\n",
      "13689/13689 [==============================] - 0s 6us/step - loss: 3.3498 - acc: 0.7922\n",
      "Epoch 16/40\n",
      "13689/13689 [==============================] - 0s 7us/step - loss: 3.3498 - acc: 0.7922\n",
      "Epoch 17/40\n",
      "13689/13689 [==============================] - 0s 7us/step - loss: 3.3498 - acc: 0.7922\n",
      "Epoch 18/40\n",
      "13689/13689 [==============================] - 0s 7us/step - loss: 3.3498 - acc: 0.7922\n",
      "Epoch 19/40\n",
      "13689/13689 [==============================] - 0s 10us/step - loss: 3.3498 - acc: 0.7922\n",
      "Epoch 20/40\n",
      "13689/13689 [==============================] - 0s 7us/step - loss: 3.3498 - acc: 0.7922\n",
      "Epoch 21/40\n",
      "13689/13689 [==============================] - 0s 9us/step - loss: 3.3498 - acc: 0.7922\n",
      "Epoch 22/40\n",
      "13689/13689 [==============================] - 0s 8us/step - loss: 3.3498 - acc: 0.7922\n",
      "Epoch 23/40\n",
      "13689/13689 [==============================] - 0s 7us/step - loss: 3.3498 - acc: 0.7922\n",
      "Epoch 24/40\n",
      "13689/13689 [==============================] - 0s 6us/step - loss: 3.3498 - acc: 0.7922\n",
      "Epoch 25/40\n",
      "13689/13689 [==============================] - 0s 7us/step - loss: 3.3498 - acc: 0.7922\n",
      "Epoch 26/40\n",
      "13689/13689 [==============================] - 0s 8us/step - loss: 3.3498 - acc: 0.7922\n",
      "Epoch 27/40\n",
      "13689/13689 [==============================] - 0s 7us/step - loss: 3.3498 - acc: 0.7922\n",
      "Epoch 28/40\n",
      "13689/13689 [==============================] - 0s 8us/step - loss: 3.3498 - acc: 0.7922\n",
      "Epoch 29/40\n",
      "13689/13689 [==============================] - 0s 7us/step - loss: 3.3498 - acc: 0.7922\n",
      "Epoch 30/40\n",
      "13689/13689 [==============================] - 0s 7us/step - loss: 3.3498 - acc: 0.7922\n",
      "Epoch 31/40\n",
      "13689/13689 [==============================] - 0s 8us/step - loss: 3.3498 - acc: 0.7922\n",
      "Epoch 32/40\n",
      "13689/13689 [==============================] - 0s 6us/step - loss: 3.3498 - acc: 0.7922\n",
      "Epoch 33/40\n",
      "13689/13689 [==============================] - 0s 8us/step - loss: 3.3498 - acc: 0.7922\n",
      "Epoch 34/40\n",
      "13689/13689 [==============================] - 0s 7us/step - loss: 3.3498 - acc: 0.7922\n",
      "Epoch 35/40\n",
      "13689/13689 [==============================] - 0s 8us/step - loss: 3.3498 - acc: 0.7922\n",
      "Epoch 36/40\n",
      "13689/13689 [==============================] - 0s 8us/step - loss: 3.3498 - acc: 0.7922\n",
      "Epoch 37/40\n",
      "13689/13689 [==============================] - 0s 7us/step - loss: 3.3498 - acc: 0.7922\n",
      "Epoch 38/40\n",
      "13689/13689 [==============================] - 0s 9us/step - loss: 3.3498 - acc: 0.7922\n",
      "Epoch 39/40\n",
      "13689/13689 [==============================] - 0s 10us/step - loss: 3.3498 - acc: 0.7922\n",
      "Epoch 40/40\n",
      "13689/13689 [==============================] - 0s 9us/step - loss: 3.3498 - acc: 0.7922\n"
     ]
    },
    {
     "data": {
      "text/plain": [
       "<keras.callbacks.History at 0x1181aad10>"
      ]
     },
     "execution_count": 164,
     "metadata": {},
     "output_type": "execute_result"
    }
   ],
   "source": [
    "model.fit(X, y_binary, epochs=40, batch_size=500,  verbose=1, callbacks=[es])"
   ]
  },
  {
   "cell_type": "markdown",
   "metadata": {},
   "source": [
    "## Try AdaBoost\n",
    "* score: 86%"
   ]
  },
  {
   "cell_type": "code",
   "execution_count": 130,
   "metadata": {},
   "outputs": [],
   "source": [
    "\n",
    "\n",
    "ada = AdaBoostClassifier(n_estimators=50)\n",
    "#ada.fit(X,y)\n",
    "cv_score = cross_val_score(ada, X, y, cv =5 , scoring=\"precision\").mean()"
   ]
  },
  {
   "cell_type": "code",
   "execution_count": 131,
   "metadata": {},
   "outputs": [
    {
     "data": {
      "text/plain": [
       "0.85896439280782633"
      ]
     },
     "execution_count": 131,
     "metadata": {},
     "output_type": "execute_result"
    }
   ],
   "source": [
    "cv_score"
   ]
  },
  {
   "cell_type": "code",
   "execution_count": 124,
   "metadata": {},
   "outputs": [
    {
     "data": {
      "text/plain": [
       "0.85959529549273139"
      ]
     },
     "execution_count": 124,
     "metadata": {},
     "output_type": "execute_result"
    }
   ],
   "source": [
    "ada.score(X,y)"
   ]
  },
  {
   "cell_type": "code",
   "execution_count": 126,
   "metadata": {
    "collapsed": true
   },
   "outputs": [
    {
     "data": {
      "text/plain": [
       "[(0.12, 'annual_inc'),\n",
       " (0.12, 'revol_bal'),\n",
       " (0.10000000000000001, 'int_rate'),\n",
       " (0.10000000000000001, 'fico_range_low'),\n",
       " (0.080000000000000002, 'id'),\n",
       " (0.080000000000000002, 'inq_last_6mths'),\n",
       " (0.059999999999999998, 'dti'),\n",
       " (0.059999999999999998, 'open_acc'),\n",
       " (0.059999999999999998, 'revol_util'),\n",
       " (0.040000000000000001, 'total_acc'),\n",
       " (0.02, 'funded_amnt'),\n",
       " (0.02, 'delinq_2yrs'),\n",
       " (0.02, 'fico_range_high'),\n",
       " (0.02, 'pub_rec'),\n",
       " (0.02, 'purpose_credit_card'),\n",
       " (0.02, 'purpose_medical'),\n",
       " (0.02, 'purpose_moving'),\n",
       " (0.02, 'purpose_other'),\n",
       " (0.02, 'purpose_small_business'),\n",
       " (0.0, 'loan_amnt'),\n",
       " (0.0, 'term'),\n",
       " (0.0, 'installment'),\n",
       " (0.0, 'acc_now_delinq'),\n",
       " (0.0, 'delinq_amnt'),\n",
       " (0.0, 'tax_liens'),\n",
       " (0.0, 'grade_A'),\n",
       " (0.0, 'grade_B'),\n",
       " (0.0, 'grade_C'),\n",
       " (0.0, 'grade_D'),\n",
       " (0.0, 'grade_E'),\n",
       " (0.0, 'grade_F'),\n",
       " (0.0, 'grade_G'),\n",
       " (0.0, 'emp_length_1 year'),\n",
       " (0.0, 'emp_length_2'),\n",
       " (0.0, 'emp_length_3'),\n",
       " (0.0, 'emp_length_4'),\n",
       " (0.0, 'emp_length_5'),\n",
       " (0.0, 'emp_length_6'),\n",
       " (0.0, 'emp_length_7'),\n",
       " (0.0, 'emp_length_8'),\n",
       " (0.0, 'emp_length_9'),\n",
       " (0.0, 'home_ownership_MORTGAGE'),\n",
       " (0.0, 'home_ownership_NONE'),\n",
       " (0.0, 'home_ownership_OTHER'),\n",
       " (0.0, 'home_ownership_OWN'),\n",
       " (0.0, 'home_ownership_RENT'),\n",
       " (0.0, 'purpose_car'),\n",
       " (0.0, 'purpose_debt_consolidation'),\n",
       " (0.0, 'purpose_educational'),\n",
       " (0.0, 'purpose_home_improvement'),\n",
       " (0.0, 'purpose_house'),\n",
       " (0.0, 'purpose_major_purchase'),\n",
       " (0.0, 'purpose_renewable_energy'),\n",
       " (0.0, 'purpose_vacation'),\n",
       " (0.0, 'purpose_wedding')]"
      ]
     },
     "execution_count": 126,
     "metadata": {},
     "output_type": "execute_result"
    }
   ],
   "source": [
    "sorted(zip(ada.feature_importances_, X), key = lambda x: x[0], reverse = True)"
   ]
  },
  {
   "cell_type": "code",
   "execution_count": null,
   "metadata": {},
   "outputs": [],
   "source": []
  },
  {
   "cell_type": "code",
   "execution_count": null,
   "metadata": {},
   "outputs": [],
   "source": []
  },
  {
   "cell_type": "code",
   "execution_count": null,
   "metadata": {},
   "outputs": [],
   "source": []
  },
  {
   "cell_type": "markdown",
   "metadata": {},
   "source": [
    "## Process Test"
   ]
  },
  {
   "cell_type": "code",
   "execution_count": 286,
   "metadata": {},
   "outputs": [],
   "source": [
    "test = pd.read_csv(\"../data/lending_club/challenge_testing_data.csv\")"
   ]
  },
  {
   "cell_type": "code",
   "execution_count": 287,
   "metadata": {},
   "outputs": [],
   "source": [
    "\n",
    "def length_decider(x):\n",
    "    if x== \"36 months\":\n",
    "        return 3\n",
    "    else:\n",
    "        return 5\n",
    "\n",
    "test.term=test.term.apply(length_decider)\n",
    "test.int_rate = test.int_rate.str.replace(\"%\", \"\")\n",
    "test.revol_util = test.revol_util.str.replace(\"%\", \"\")\n",
    "test.drop([\"emp_title\", \"desc\", \"title\", \"last_credit_pull_d\"], inplace=True, axis=1 )\n",
    "test.drop([\"verification_status\"], inplace=True, axis=1 )\n",
    "test.emp_length = test.emp_length.str.replace(\" years\", \"\")\n",
    "test[\"int_rate\"] = test.int_rate.astype(float)\n",
    "test[\"revol_util\"] = test.revol_util.astype(float)\n",
    "\n",
    "\n",
    "cols= ['grade', 'emp_length','home_ownership', 'purpose']\n",
    "for col in cols:\n",
    "    if(test[col].dtypes== object):\n",
    "        #print df[col].dtypes\n",
    "            dummy = pd.get_dummies(test[col], prefix = test[col].name, drop_first = False)\n",
    "            test = pd.concat([test, dummy], axis = 1)\n",
    "            del dummy\n",
    "            gc.collect()\n"
   ]
  },
  {
   "cell_type": "code",
   "execution_count": 251,
   "metadata": {},
   "outputs": [],
   "source": [
    "test.drop([\"grade\", \"home_ownership\", \"purpose\"], axis=1, inplace=True)"
   ]
  },
  {
   "cell_type": "code",
   "execution_count": 252,
   "metadata": {},
   "outputs": [],
   "source": [
    "test.drop('emp_length_10+', axis=1, inplace=True)"
   ]
  },
  {
   "cell_type": "code",
   "execution_count": 253,
   "metadata": {},
   "outputs": [],
   "source": [
    "test.drop('emp_length_< 1 year', axis=1, inplace=True)"
   ]
  },
  {
   "cell_type": "code",
   "execution_count": 254,
   "metadata": {},
   "outputs": [],
   "source": [
    "test.drop('emp_length', axis=1, inplace=True)"
   ]
  },
  {
   "cell_type": "code",
   "execution_count": 255,
   "metadata": {},
   "outputs": [],
   "source": [
    "test.drop('loan_status', axis=1, inplace=True)"
   ]
  },
  {
   "cell_type": "code",
   "execution_count": 238,
   "metadata": {},
   "outputs": [],
   "source": [
    "preds = model.predict_proba(test)"
   ]
  },
  {
   "cell_type": "code",
   "execution_count": 288,
   "metadata": {},
   "outputs": [],
   "source": [
    "p_col=['int_rate','loan_amnt','loan_status']\n",
    "p_df=test[p_col]"
   ]
  },
  {
   "cell_type": "code",
   "execution_count": 291,
   "metadata": {},
   "outputs": [
    {
     "name": "stderr",
     "output_type": "stream",
     "text": [
      "/Users/eric/anaconda2/envs/tensorflow/lib/python2.7/site-packages/pandas/core/frame.py:3027: SettingWithCopyWarning: \n",
      "A value is trying to be set on a copy of a slice from a DataFrame\n",
      "\n",
      "See the caveats in the documentation: http://pandas.pydata.org/pandas-docs/stable/indexing.html#indexing-view-versus-copy\n",
      "  return super(DataFrame, self).rename(**kwargs)\n"
     ]
    },
    {
     "data": {
      "text/html": [
       "<div>\n",
       "<style scoped>\n",
       "    .dataframe tbody tr th:only-of-type {\n",
       "        vertical-align: middle;\n",
       "    }\n",
       "\n",
       "    .dataframe tbody tr th {\n",
       "        vertical-align: top;\n",
       "    }\n",
       "\n",
       "    .dataframe thead th {\n",
       "        text-align: right;\n",
       "    }\n",
       "</style>\n",
       "<table border=\"1\" class=\"dataframe\">\n",
       "  <thead>\n",
       "    <tr style=\"text-align: right;\">\n",
       "      <th></th>\n",
       "      <th>int_rate</th>\n",
       "      <th>loan_amnt</th>\n",
       "      <th>target</th>\n",
       "    </tr>\n",
       "  </thead>\n",
       "  <tbody>\n",
       "    <tr>\n",
       "      <th>0</th>\n",
       "      <td>15.27</td>\n",
       "      <td>2500.0</td>\n",
       "      <td>0</td>\n",
       "    </tr>\n",
       "    <tr>\n",
       "      <th>1</th>\n",
       "      <td>13.49</td>\n",
       "      <td>10000.0</td>\n",
       "      <td>1</td>\n",
       "    </tr>\n",
       "    <tr>\n",
       "      <th>2</th>\n",
       "      <td>18.64</td>\n",
       "      <td>3000.0</td>\n",
       "      <td>1</td>\n",
       "    </tr>\n",
       "    <tr>\n",
       "      <th>3</th>\n",
       "      <td>12.69</td>\n",
       "      <td>5375.0</td>\n",
       "      <td>0</td>\n",
       "    </tr>\n",
       "    <tr>\n",
       "      <th>4</th>\n",
       "      <td>9.91</td>\n",
       "      <td>3000.0</td>\n",
       "      <td>1</td>\n",
       "    </tr>\n",
       "  </tbody>\n",
       "</table>\n",
       "</div>"
      ],
      "text/plain": [
       "   int_rate  loan_amnt  target\n",
       "0     15.27     2500.0       0\n",
       "1     13.49    10000.0       1\n",
       "2     18.64     3000.0       1\n",
       "3     12.69     5375.0       0\n",
       "4      9.91     3000.0       1"
      ]
     },
     "execution_count": 291,
     "metadata": {},
     "output_type": "execute_result"
    }
   ],
   "source": [
    "\n",
    "p_df.rename(columns={'loan_status':'target'},inplace=True)\n",
    "p_df.head()"
   ]
  },
  {
   "cell_type": "code",
   "execution_count": 260,
   "metadata": {},
   "outputs": [],
   "source": [
    "pp = preds[:,1]"
   ]
  },
  {
   "cell_type": "code",
   "execution_count": 261,
   "metadata": {},
   "outputs": [
    {
     "data": {
      "text/plain": [
       "array([ 0.77507162,  0.82726794,  0.7343275 , ...,  0.02580724,\n",
       "        0.02906195,  0.22398224], dtype=float32)"
      ]
     },
     "execution_count": 261,
     "metadata": {},
     "output_type": "execute_result"
    }
   ],
   "source": [
    "pp"
   ]
  },
  {
   "cell_type": "code",
   "execution_count": 277,
   "metadata": {},
   "outputs": [],
   "source": [
    "p= threshold(pp, thres = 0.9 )"
   ]
  },
  {
   "cell_type": "code",
   "execution_count": 292,
   "metadata": {},
   "outputs": [
    {
     "name": "stderr",
     "output_type": "stream",
     "text": [
      "/Users/eric/anaconda2/envs/tensorflow/lib/python2.7/site-packages/ipykernel_launcher.py:1: SettingWithCopyWarning: \n",
      "A value is trying to be set on a copy of a slice from a DataFrame.\n",
      "Try using .loc[row_indexer,col_indexer] = value instead\n",
      "\n",
      "See the caveats in the documentation: http://pandas.pydata.org/pandas-docs/stable/indexing.html#indexing-view-versus-copy\n",
      "  \"\"\"Entry point for launching an IPython kernel.\n"
     ]
    }
   ],
   "source": [
    "p_df['predicted']=p"
   ]
  },
  {
   "cell_type": "code",
   "execution_count": 293,
   "metadata": {},
   "outputs": [
    {
     "data": {
      "text/plain": [
       "0           0.000\n",
       "1           0.000\n",
       "2           0.000\n",
       "3           0.000\n",
       "4           0.000\n",
       "5           0.000\n",
       "6        2514.175\n",
       "7         445.000\n",
       "8        1070.280\n",
       "9        1185.000\n",
       "10          0.000\n",
       "11       1387.400\n",
       "12       1189.200\n",
       "13          0.000\n",
       "14          0.000\n",
       "15          0.000\n",
       "16          0.000\n",
       "17          0.000\n",
       "18       1281.600\n",
       "19          0.000\n",
       "20          0.000\n",
       "21       1278.000\n",
       "22          0.000\n",
       "23          0.000\n",
       "24          0.000\n",
       "25        534.000\n",
       "26        713.520\n",
       "27          0.000\n",
       "28       1405.200\n",
       "29          0.000\n",
       "           ...   \n",
       "13659       0.000\n",
       "13660       0.000\n",
       "13661       0.000\n",
       "13662       0.000\n",
       "13663       0.000\n",
       "13664       0.000\n",
       "13665       0.000\n",
       "13666       0.000\n",
       "13667       0.000\n",
       "13668       0.000\n",
       "13669       0.000\n",
       "13670       0.000\n",
       "13671       0.000\n",
       "13672       0.000\n",
       "13673       0.000\n",
       "13674       0.000\n",
       "13675       0.000\n",
       "13676       0.000\n",
       "13677       0.000\n",
       "13678       0.000\n",
       "13679       0.000\n",
       "13680       0.000\n",
       "13681       0.000\n",
       "13682       0.000\n",
       "13683       0.000\n",
       "13684       0.000\n",
       "13685       0.000\n",
       "13686       0.000\n",
       "13687       0.000\n",
       "13688       0.000\n",
       "Length: 13689, dtype: float64"
      ]
     },
     "execution_count": 293,
     "metadata": {},
     "output_type": "execute_result"
    }
   ],
   "source": [
    "profit_series = p_df.apply(profit_function, axis = 1)"
   ]
  },
  {
   "cell_type": "code",
   "execution_count": 294,
   "metadata": {},
   "outputs": [
    {
     "data": {
      "text/plain": [
       "729094.75"
      ]
     },
     "execution_count": 294,
     "metadata": {},
     "output_type": "execute_result"
    }
   ],
   "source": [
    "profit_series.sum()"
   ]
  },
  {
   "cell_type": "code",
   "execution_count": 302,
   "metadata": {},
   "outputs": [],
   "source": [
    "array = np.arange(0,1,0.05)"
   ]
  },
  {
   "cell_type": "code",
   "execution_count": 300,
   "metadata": {},
   "outputs": [
    {
     "name": "stderr",
     "output_type": "stream",
     "text": [
      "/Users/eric/anaconda2/envs/tensorflow/lib/python2.7/site-packages/ipykernel_launcher.py:4: SettingWithCopyWarning: \n",
      "A value is trying to be set on a copy of a slice from a DataFrame.\n",
      "Try using .loc[row_indexer,col_indexer] = value instead\n",
      "\n",
      "See the caveats in the documentation: http://pandas.pydata.org/pandas-docs/stable/indexing.html#indexing-view-versus-copy\n",
      "  after removing the cwd from sys.path.\n"
     ]
    },
    {
     "data": {
      "text/plain": [
       "[-18370462.232500002,\n",
       " -11186137.2325,\n",
       " -10300584.922499999,\n",
       " -9983534.9224999994,\n",
       " -9845559.9224999994,\n",
       " -9752508.5225000009,\n",
       " -9668756.7424999997,\n",
       " -9542023.1425000001,\n",
       " -9460600.2625000011,\n",
       " -9289430.6225000005,\n",
       " -9113516.7825000007,\n",
       " -8800112.7850000001,\n",
       " -8561219.7224999983,\n",
       " -7744562.3849999998,\n",
       " -6554237.3399999999,\n",
       " -4443524.352500001,\n",
       " -2092817.8050000002,\n",
       " 221468.63000000012,\n",
       " 729094.75,\n",
       " 573511.46750000003]"
      ]
     },
     "execution_count": 300,
     "metadata": {},
     "output_type": "execute_result"
    }
   ],
   "source": [
    "results=[]\n",
    "array = np.arange(0,1,0.05)\n",
    "for i in array:\n",
    "    p= threshold(pp, thres = i)\n",
    "    p_df['predicted']=p\n",
    "    profit_series = p_df.apply(profit_function, axis = 1)\n",
    "    results.append(profit_series.sum())\n",
    "results"
   ]
  },
  {
   "cell_type": "code",
   "execution_count": 309,
   "metadata": {},
   "outputs": [
    {
     "data": {
      "image/png": "[encoded data removed]",
      "text/plain": [
       "<matplotlib.figure.Figure at 0x1196218d0>"
      ]
     },
     "metadata": {},
     "output_type": "display_data"
    }
   ],
   "source": [
    "plt.style.use(\"seaborn\")\n",
    "\n",
    "plt.figure(figsize=(12,6))\n",
    "plt.plot(array,results)\n",
    "plt.title(\"profit\")\n",
    "plt.tight_layout()\n",
    "plt.show()"
   ]
  },
  {
   "cell_type": "code",
   "execution_count": null,
   "metadata": {},
   "outputs": [],
   "source": []
  }
 ],
 "metadata": {
  "kernelspec": {
   "display_name": "Python 2",
   "language": "python",
   "name": "python2"
  },
  "language_info": {
   "codemirror_mode": {
    "name": "ipython",
    "version": 2
   },
   "file_extension": ".py",
   "mimetype": "text/x-python",
   "name": "python",
   "nbconvert_exporter": "python",
   "pygments_lexer": "ipython2",
   "version": "2.7.14"
  }
 },
 "nbformat": 4,
 "nbformat_minor": 2
}
